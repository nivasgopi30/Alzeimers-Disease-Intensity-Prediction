{
 "cells": [
  {
   "cell_type": "markdown",
   "id": "c670a08d",
   "metadata": {},
   "source": [
    "### Exploring Numpy and Pandas"
   ]
  },
  {
   "cell_type": "code",
   "execution_count": 1,
   "id": "88640d44",
   "metadata": {},
   "outputs": [],
   "source": [
    "import numpy as np\n",
    "import pandas as pd"
   ]
  },
  {
   "cell_type": "code",
   "execution_count": 3,
   "id": "788ff886",
   "metadata": {},
   "outputs": [
    {
     "data": {
      "text/plain": [
       "'1.23.2'"
      ]
     },
     "execution_count": 3,
     "metadata": {},
     "output_type": "execute_result"
    }
   ],
   "source": [
    "np.__version__"
   ]
  },
  {
   "cell_type": "code",
   "execution_count": 4,
   "id": "07d17622",
   "metadata": {},
   "outputs": [],
   "source": [
    "cars_data = pd.read_csv('cars.csv')"
   ]
  },
  {
   "cell_type": "code",
   "execution_count": 5,
   "id": "a4b7a99e",
   "metadata": {},
   "outputs": [
    {
     "name": "stdout",
     "output_type": "stream",
     "text": [
      "(11914, 16)\n"
     ]
    }
   ],
   "source": [
    "print(cars_data.shape)"
   ]
  },
  {
   "cell_type": "code",
   "execution_count": 6,
   "id": "aca1c2b7",
   "metadata": {},
   "outputs": [
    {
     "name": "stdout",
     "output_type": "stream",
     "text": [
      "11914\n"
     ]
    }
   ],
   "source": [
    "print(len(cars_data))"
   ]
  },
  {
   "cell_type": "code",
   "execution_count": 7,
   "id": "a79f97c3",
   "metadata": {},
   "outputs": [
    {
     "name": "stdout",
     "output_type": "stream",
     "text": [
      "  Make       Model  Year             Engine Fuel Type  Engine HP  \\\n",
      "0  BMW  1 Series M  2011  premium unleaded (required)      335.0   \n",
      "1  BMW    1 Series  2011  premium unleaded (required)      300.0   \n",
      "2  BMW    1 Series  2011  premium unleaded (required)      300.0   \n",
      "3  BMW    1 Series  2011  premium unleaded (required)      230.0   \n",
      "4  BMW    1 Series  2011  premium unleaded (required)      230.0   \n",
      "\n",
      "   Engine Cylinders Transmission Type     Driven_Wheels  Number of Doors  \\\n",
      "0               6.0            MANUAL  rear wheel drive              2.0   \n",
      "1               6.0            MANUAL  rear wheel drive              2.0   \n",
      "2               6.0            MANUAL  rear wheel drive              2.0   \n",
      "3               6.0            MANUAL  rear wheel drive              2.0   \n",
      "4               6.0            MANUAL  rear wheel drive              2.0   \n",
      "\n",
      "                         Market Category Vehicle Size Vehicle Style  \\\n",
      "0  Factory Tuner,Luxury,High-Performance      Compact         Coupe   \n",
      "1                     Luxury,Performance      Compact   Convertible   \n",
      "2                Luxury,High-Performance      Compact         Coupe   \n",
      "3                     Luxury,Performance      Compact         Coupe   \n",
      "4                                 Luxury      Compact   Convertible   \n",
      "\n",
      "   highway MPG  city mpg  Popularity   MSRP  \n",
      "0           26        19        3916  46135  \n",
      "1           28        19        3916  40650  \n",
      "2           28        20        3916  36350  \n",
      "3           28        18        3916  29450  \n",
      "4           28        18        3916  34500  \n"
     ]
    }
   ],
   "source": [
    "print(cars_data.head())"
   ]
  },
  {
   "cell_type": "code",
   "execution_count": 8,
   "id": "71da4a64",
   "metadata": {},
   "outputs": [
    {
     "name": "stdout",
     "output_type": "stream",
     "text": [
      "<bound method Series.info of 0            BMW\n",
      "1            BMW\n",
      "2            BMW\n",
      "3            BMW\n",
      "4            BMW\n",
      "          ...   \n",
      "11909      Acura\n",
      "11910      Acura\n",
      "11911      Acura\n",
      "11912      Acura\n",
      "11913    Lincoln\n",
      "Name: Make, Length: 11914, dtype: object>\n"
     ]
    }
   ],
   "source": [
    "print(cars_data['Make'].info)"
   ]
  },
  {
   "cell_type": "code",
   "execution_count": 9,
   "id": "9d18bbfe",
   "metadata": {},
   "outputs": [
    {
     "name": "stdout",
     "output_type": "stream",
     "text": [
      "[('Chevrolet', 1123), ('Ford', 881), ('Volkswagen', 809)]\n"
     ]
    }
   ],
   "source": [
    "from collections import Counter\n",
    "\n",
    "counter = Counter(cars_data['Make'])\n",
    "print(counter.most_common(3))"
   ]
  },
  {
   "cell_type": "code",
   "execution_count": 10,
   "id": "c93aad8e",
   "metadata": {},
   "outputs": [
    {
     "name": "stdout",
     "output_type": "stream",
     "text": [
      "34\n"
     ]
    }
   ],
   "source": [
    "print(cars_data[cars_data['Make'] == 'Audi']['Model'].nunique())"
   ]
  },
  {
   "cell_type": "code",
   "execution_count": 11,
   "id": "40d5c78f",
   "metadata": {},
   "outputs": [
    {
     "name": "stdout",
     "output_type": "stream",
     "text": [
      "Make                    0\n",
      "Model                   0\n",
      "Year                    0\n",
      "Engine Fuel Type        3\n",
      "Engine HP              69\n",
      "Engine Cylinders       30\n",
      "Transmission Type       0\n",
      "Driven_Wheels           0\n",
      "Number of Doors         6\n",
      "Market Category      3742\n",
      "Vehicle Size            0\n",
      "Vehicle Style           0\n",
      "highway MPG             0\n",
      "city mpg                0\n",
      "Popularity              0\n",
      "MSRP                    0\n",
      "dtype: int64\n"
     ]
    }
   ],
   "source": [
    "print(cars_data.isnull().sum())"
   ]
  },
  {
   "cell_type": "code",
   "execution_count": 12,
   "id": "0dbefbb6",
   "metadata": {},
   "outputs": [
    {
     "name": "stdout",
     "output_type": "stream",
     "text": [
      "6.0\n"
     ]
    }
   ],
   "source": [
    "print(cars_data['Engine Cylinders'].median())"
   ]
  },
  {
   "cell_type": "code",
   "execution_count": 13,
   "id": "2caf5cd8",
   "metadata": {},
   "outputs": [
    {
     "name": "stdout",
     "output_type": "stream",
     "text": [
      "0    4.0\n",
      "Name: Engine Cylinders, dtype: float64\n"
     ]
    }
   ],
   "source": [
    "print(cars_data['Engine Cylinders'].mode())"
   ]
  },
  {
   "cell_type": "code",
   "execution_count": 14,
   "id": "3055d54a",
   "metadata": {},
   "outputs": [
    {
     "name": "stdout",
     "output_type": "stream",
     "text": [
      "0        6.0\n",
      "1        6.0\n",
      "2        6.0\n",
      "3        6.0\n",
      "4        6.0\n",
      "        ... \n",
      "11909    6.0\n",
      "11910    6.0\n",
      "11911    6.0\n",
      "11912    6.0\n",
      "11913    6.0\n",
      "Name: Engine Cylinders, Length: 11914, dtype: float64\n"
     ]
    }
   ],
   "source": [
    "print(cars_data['Engine Cylinders'].fillna(4.0))"
   ]
  },
  {
   "cell_type": "code",
   "execution_count": 15,
   "id": "700e8975",
   "metadata": {},
   "outputs": [
    {
     "name": "stdout",
     "output_type": "stream",
     "text": [
      "6.0\n"
     ]
    }
   ],
   "source": [
    "print(cars_data['Engine Cylinders'].median())"
   ]
  },
  {
   "cell_type": "code",
   "execution_count": 16,
   "id": "d22ec229",
   "metadata": {},
   "outputs": [],
   "source": [
    "X = cars_data[cars_data['Make'] == 'Lotus'][[\"Engine HP\", \"Engine Cylinders\"]].drop_duplicates().values\n",
    "X_transpose = X.T"
   ]
  },
  {
   "cell_type": "code",
   "execution_count": 17,
   "id": "bcc3b0b6",
   "metadata": {},
   "outputs": [],
   "source": [
    "XTX = X_transpose.dot(X)"
   ]
  },
  {
   "cell_type": "code",
   "execution_count": 18,
   "id": "11536570",
   "metadata": {},
   "outputs": [],
   "source": [
    "from numpy.linalg import inv\n",
    "\n",
    "XTX_inv = inv(XTX)"
   ]
  },
  {
   "cell_type": "code",
   "execution_count": 19,
   "id": "dde74658",
   "metadata": {},
   "outputs": [
    {
     "name": "stdout",
     "output_type": "stream",
     "text": [
      "[  4.59494481 -63.56432501]\n"
     ]
    }
   ],
   "source": [
    "y = [1100, 800, 750, 850, 1300, 1000, 1000, 1300, 800]\n",
    "w = XTX_inv.dot(X_transpose).dot(y)\n",
    "print(w)"
   ]
  },
  {
   "cell_type": "code",
   "execution_count": 20,
   "id": "f5f0685f",
   "metadata": {},
   "outputs": [
    {
     "name": "stdout",
     "output_type": "stream",
     "text": [
      "4.594944810094551\n"
     ]
    }
   ],
   "source": [
    "print(w[0])"
   ]
  },
  {
   "cell_type": "code",
   "execution_count": null,
   "id": "dace44d7",
   "metadata": {},
   "outputs": [],
   "source": []
  }
 ],
 "metadata": {
  "kernelspec": {
   "display_name": "Python 3.10.6 64-bit",
   "language": "python",
   "name": "python3"
  },
  "language_info": {
   "codemirror_mode": {
    "name": "ipython",
    "version": 3
   },
   "file_extension": ".py",
   "mimetype": "text/x-python",
   "name": "python",
   "nbconvert_exporter": "python",
   "pygments_lexer": "ipython3",
   "version": "3.10.6"
  },
  "vscode": {
   "interpreter": {
    "hash": "85c2f48a2650f7c60d5dfd0bb5bb5583835eab9c65dc0703a3442769110ea756"
   }
  }
 },
 "nbformat": 4,
 "nbformat_minor": 5
}
