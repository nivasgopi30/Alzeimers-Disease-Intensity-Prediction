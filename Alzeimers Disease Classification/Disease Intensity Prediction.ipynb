{
 "cells": [
  {
   "cell_type": "code",
   "execution_count": 1,
   "id": "f3e9a036-b895-4a0f-ad3d-a2d63f7550cc",
   "metadata": {},
   "outputs": [],
   "source": [
    "import tensorflow as tf"
   ]
  },
  {
   "cell_type": "code",
   "execution_count": 2,
   "id": "79b81eef-a2d5-4ef8-9044-d3530e15b1fa",
   "metadata": {},
   "outputs": [],
   "source": [
    "def define_model(width, height):\n",
    "    \n",
    "    base_model = tf.keras.applications.inception_resnet_v2.InceptionResNetV2(weights='imagenet', \n",
    "                                                                             include_top=False, \n",
    "                                                                             input_shape=(width, height, 3))\n",
    "    \n",
    "    input_layer = tf.keras.Input(shape=(width, height, 3))\n",
    "    base = base_model(input_layer)\n",
    "    vectors = tf.keras.layers.GlobalAveragePooling2D()(base)\n",
    "    \n",
    "    first_dense_layer = tf.keras.layers.Dense(64, activation='relu')(vectors)\n",
    "    dropout_layer = tf.keras.layers.Dropout(0.5)(first_dense_layer)\n",
    "    outputs = tf.keras.layers.Dense(4, activation='softmax')(dropout_layer)\n",
    "    \n",
    "    model = tf.keras.Model(input_layer, outputs)\n",
    "    optimizer = tf.keras.optimizers.Adam(learning_rate=0.01)\n",
    "    metric = tf.keras.metrics.AUC()\n",
    "    model.compile(loss=\"categorical_crossentropy\", optimizer=optimizer, metrics=metric)\n",
    "    \n",
    "    return model"
   ]
  },
  {
   "cell_type": "code",
   "execution_count": 3,
   "id": "1353c148-e689-4e8d-983c-9dedf1a9f06f",
   "metadata": {},
   "outputs": [],
   "source": [
    "def define_generators():\n",
    "    train_datagen = tf.keras.preprocessing.image.ImageDataGenerator(\n",
    "        preprocessing_function=tf.keras.applications.inception_resnet_v2.preprocess_input,\n",
    "        rescale=1./255,\n",
    "        validation_split=0.2)\n",
    "\n",
    "    train_generator = train_datagen.flow_from_directory(\n",
    "        directory='./train/',\n",
    "        target_size=(width, height),\n",
    "        batch_size=16,\n",
    "        class_mode=\"categorical\",\n",
    "        color_mode=\"rgb\",\n",
    "        subset=\"training\")\n",
    "    \n",
    "    validation_generator = train_datagen.flow_from_directory(\n",
    "        directory='./train',\n",
    "        target_size=(width, height),\n",
    "        batch_size=16,\n",
    "        class_mode=\"categorical\",\n",
    "        color_mode=\"rgb\",\n",
    "        subset=\"validation\")\n",
    "    \n",
    "    return train_generator, validation_generator"
   ]
  },
  {
   "cell_type": "code",
   "execution_count": 4,
   "id": "4f026e8e-554f-45c3-a061-3d89326c4e6e",
   "metadata": {},
   "outputs": [],
   "source": [
    "def define_callbacks():\n",
    "    save_callback = tf.keras.callbacks.ModelCheckpoint(\n",
    "        filepath=\"inception_resnet_v2_model.h5\",\n",
    "        monitor='val_auc',\n",
    "        save_best_only=True,\n",
    "        verbose=1,\n",
    "        mode='max')\n",
    "\n",
    "    return save_callback"
   ]
  },
  {
   "cell_type": "code",
   "execution_count": 5,
   "id": "de2f2fbc-41cc-4d0b-bd4b-2233cf3d2737",
   "metadata": {},
   "outputs": [],
   "source": [
    "nb_epoch     = 8\n",
    "batch_size   = 16\n",
    "width        = 299\n",
    "height       = 299"
   ]
  },
  {
   "cell_type": "code",
   "execution_count": 6,
   "id": "926426cd-0d33-4912-889c-c4bb1ec4043e",
   "metadata": {},
   "outputs": [],
   "source": [
    "model = define_model(width, height)"
   ]
  },
  {
   "cell_type": "code",
   "execution_count": 7,
   "id": "4c11e68b-39d7-4c43-9a53-532bd4f0b091",
   "metadata": {},
   "outputs": [
    {
     "name": "stdout",
     "output_type": "stream",
     "text": [
      "Found 4100 images belonging to 4 classes.\n",
      "Found 1023 images belonging to 4 classes.\n"
     ]
    }
   ],
   "source": [
    "train_generator, validation_generator = define_generators()"
   ]
  },
  {
   "cell_type": "code",
   "execution_count": 8,
   "id": "ba166584-a1f5-4fd3-8043-5657488c242b",
   "metadata": {},
   "outputs": [
    {
     "name": "stdout",
     "output_type": "stream",
     "text": [
      "Epoch 1/8\n",
      "257/257 [==============================] - ETA: 0s - loss: 1.1142 - auc: 0.7692\n",
      "Epoch 1: val_auc improved from -inf to 0.66797, saving model to inception_resnet_v2_model.h5\n",
      "257/257 [==============================] - 176s 601ms/step - loss: 1.1142 - auc: 0.7692 - val_loss: 42.3449 - val_auc: 0.6680\n",
      "Epoch 2/8\n",
      "257/257 [==============================] - ETA: 0s - loss: 0.9728 - auc: 0.8145\n",
      "Epoch 2: val_auc improved from 0.66797 to 0.73021, saving model to inception_resnet_v2_model.h5\n",
      "257/257 [==============================] - 150s 584ms/step - loss: 0.9728 - auc: 0.8145 - val_loss: 1.0772 - val_auc: 0.7302\n",
      "Epoch 3/8\n",
      "257/257 [==============================] - ETA: 0s - loss: 0.9422 - auc: 0.8244\n",
      "Epoch 3: val_auc improved from 0.73021 to 0.73421, saving model to inception_resnet_v2_model.h5\n",
      "257/257 [==============================] - 151s 588ms/step - loss: 0.9422 - auc: 0.8244 - val_loss: 1.0827 - val_auc: 0.7342\n",
      "Epoch 4/8\n",
      "257/257 [==============================] - ETA: 0s - loss: 0.9365 - auc: 0.8261\n",
      "Epoch 4: val_auc improved from 0.73421 to 0.75226, saving model to inception_resnet_v2_model.h5\n",
      "257/257 [==============================] - 152s 590ms/step - loss: 0.9365 - auc: 0.8261 - val_loss: 1.0621 - val_auc: 0.7523\n",
      "Epoch 5/8\n",
      "257/257 [==============================] - ETA: 0s - loss: 0.9286 - auc: 0.8289\n",
      "Epoch 5: val_auc improved from 0.75226 to 0.83139, saving model to inception_resnet_v2_model.h5\n",
      "257/257 [==============================] - 153s 594ms/step - loss: 0.9286 - auc: 0.8289 - val_loss: 1.0003 - val_auc: 0.8314\n",
      "Epoch 6/8\n",
      "257/257 [==============================] - ETA: 0s - loss: 0.9718 - auc: 0.8109\n",
      "Epoch 6: val_auc did not improve from 0.83139\n",
      "257/257 [==============================] - 147s 571ms/step - loss: 0.9718 - auc: 0.8109 - val_loss: 1.0382 - val_auc: 0.7804\n",
      "Epoch 7/8\n",
      "257/257 [==============================] - ETA: 0s - loss: 1.0377 - auc: 0.7805\n",
      "Epoch 7: val_auc did not improve from 0.83139\n",
      "257/257 [==============================] - 141s 547ms/step - loss: 1.0377 - auc: 0.7805 - val_loss: 1.0357 - val_auc: 0.7804\n",
      "Epoch 8/8\n",
      "257/257 [==============================] - ETA: 0s - loss: 1.0377 - auc: 0.7783\n",
      "Epoch 8: val_auc did not improve from 0.83139\n",
      "257/257 [==============================] - 141s 547ms/step - loss: 1.0377 - auc: 0.7783 - val_loss: 1.0354 - val_auc: 0.7804\n"
     ]
    }
   ],
   "source": [
    "history = model.fit(\n",
    "                train_generator,\n",
    "                epochs=nb_epoch,\n",
    "                validation_data= validation_generator,\n",
    "                verbose=1,\n",
    "                callbacks=define_callbacks())"
   ]
  },
  {
   "cell_type": "code",
   "execution_count": 9,
   "id": "0f1d34f1-3960-4f90-9bf9-29766c525557",
   "metadata": {},
   "outputs": [],
   "source": [
    "final_model = tf.keras.models.load_model('inception_resnet_v2_model.h5')"
   ]
  },
  {
   "cell_type": "code",
   "execution_count": 10,
   "id": "38e763f7-64bc-4713-833d-08daa604524b",
   "metadata": {},
   "outputs": [
    {
     "name": "stdout",
     "output_type": "stream",
     "text": [
      "Model: \"model\"\n",
      "_________________________________________________________________\n",
      " Layer (type)                Output Shape              Param #   \n",
      "=================================================================\n",
      " input_2 (InputLayer)        [(None, 299, 299, 3)]     0         \n",
      "                                                                 \n",
      " inception_resnet_v2 (Functi  (None, 8, 8, 1536)       54336736  \n",
      " onal)                                                           \n",
      "                                                                 \n",
      " global_average_pooling2d (G  (None, 1536)             0         \n",
      " lobalAveragePooling2D)                                          \n",
      "                                                                 \n",
      " dense (Dense)               (None, 64)                98368     \n",
      "                                                                 \n",
      " dropout (Dropout)           (None, 64)                0         \n",
      "                                                                 \n",
      " dense_1 (Dense)             (None, 4)                 260       \n",
      "                                                                 \n",
      "=================================================================\n",
      "Total params: 54,435,364\n",
      "Trainable params: 54,374,820\n",
      "Non-trainable params: 60,544\n",
      "_________________________________________________________________\n"
     ]
    }
   ],
   "source": [
    "final_model.summary()"
   ]
  },
  {
   "cell_type": "code",
   "execution_count": 11,
   "id": "f073a40f-8fda-4e7f-b58b-03d97107c40a",
   "metadata": {},
   "outputs": [
    {
     "name": "stdout",
     "output_type": "stream",
     "text": [
      "Found 1279 files belonging to 4 classes.\n"
     ]
    }
   ],
   "source": [
    "test_images = tf.keras.utils.image_dataset_from_directory('test/', \n",
    "                                                          label_mode='categorical', \n",
    "                                                          image_size=(299, 299),\n",
    "                                                          shuffle=False)"
   ]
  },
  {
   "cell_type": "code",
   "execution_count": 12,
   "id": "f6bbd2a5-9847-4631-a8c1-b3f24b965fd6",
   "metadata": {},
   "outputs": [
    {
     "name": "stdout",
     "output_type": "stream",
     "text": [
      "40/40 [==============================] - 20s 374ms/step - loss: 1.0793 - auc: 0.7305\n",
      "[1.0793309211730957, 0.730518639087677]\n"
     ]
    }
   ],
   "source": [
    "print(final_model.evaluate(test_images))"
   ]
  },
  {
   "cell_type": "code",
   "execution_count": 13,
   "id": "1a61fb92-5382-4abd-807f-c8ee7218f679",
   "metadata": {},
   "outputs": [],
   "source": [
    "converter = tf.lite.TFLiteConverter.from_keras_model(final_model)"
   ]
  },
  {
   "cell_type": "code",
   "execution_count": 14,
   "id": "6cdbf579-bae6-4707-9c0a-57621ea948ed",
   "metadata": {},
   "outputs": [
    {
     "name": "stderr",
     "output_type": "stream",
     "text": [
      "WARNING:absl:Found untraced functions such as _jit_compiled_convolution_op, _jit_compiled_convolution_op, _jit_compiled_convolution_op, _jit_compiled_convolution_op, _jit_compiled_convolution_op while saving (showing 5 of 244). These functions will not be directly callable after loading.\n"
     ]
    },
    {
     "name": "stdout",
     "output_type": "stream",
     "text": [
      "INFO:tensorflow:Assets written to: /tmp/tmplkecxb6s/assets\n"
     ]
    },
    {
     "name": "stderr",
     "output_type": "stream",
     "text": [
      "INFO:tensorflow:Assets written to: /tmp/tmplkecxb6s/assets\n",
      "2022-12-03 08:15:34.049934: W tensorflow/compiler/mlir/lite/python/tf_tfl_flatbuffer_helpers.cc:362] Ignored output_format.\n",
      "2022-12-03 08:15:34.049971: W tensorflow/compiler/mlir/lite/python/tf_tfl_flatbuffer_helpers.cc:365] Ignored drop_control_dependency.\n"
     ]
    }
   ],
   "source": [
    "tflite_converted_model = converter.convert()\n",
    "with open('alzeimer_disease_prediction.tflite', 'wb') as f_out:\n",
    "    f_out.write(tflite_converted_model)"
   ]
  },
  {
   "cell_type": "code",
   "execution_count": 15,
   "id": "80e88eb7-3888-456b-a400-5d4d476c4c91",
   "metadata": {},
   "outputs": [],
   "source": [
    "from tensorflow.keras.preprocessing.image import load_img\n",
    "\n",
    "sample_test_image = load_img('test_images/testing_images/26 (100).jpg', target_size=(299, 299))"
   ]
  },
  {
   "cell_type": "code",
   "execution_count": 16,
   "id": "b6651c6c-c948-4091-a7a7-0cfca50769ff",
   "metadata": {},
   "outputs": [
    {
     "data": {
      "image/png": "[encoded data removed]",
      "text/plain": [
       "<PIL.Image.Image image mode=RGB size=299x299>"
      ]
     },
     "execution_count": 16,
     "metadata": {},
     "output_type": "execute_result"
    }
   ],
   "source": [
    "sample_test_image"
   ]
  },
  {
   "cell_type": "code",
   "execution_count": 18,
   "id": "a2ad0605-97ad-4335-85a2-36898eb856cd",
   "metadata": {},
   "outputs": [
    {
     "name": "stdout",
     "output_type": "stream",
     "text": [
      "1/1 [==============================] - 0s 45ms/step\n",
      "[[0.21316227 0.01679706 0.35784283 0.4121978 ]]\n"
     ]
    }
   ],
   "source": [
    "import numpy as np\n",
    "\n",
    "x = np.array(sample_test_image)\n",
    "X = np.array([x])\n",
    "X = tf.keras.applications.inception_resnet_v2.preprocess_input(X)\n",
    "\n",
    "prediction = final_model.predict(X)\n",
    "print(prediction)"
   ]
  },
  {
   "cell_type": "code",
   "execution_count": 22,
   "id": "05c8eee8-b359-4770-83c8-94a07af345f1",
   "metadata": {},
   "outputs": [
    {
     "data": {
      "text/plain": [
       "dict_keys(['MildDemented', 'ModerateDemented', 'NonDemented', 'VeryMildDemented'])"
      ]
     },
     "execution_count": 22,
     "metadata": {},
     "output_type": "execute_result"
    }
   ],
   "source": [
    "train_generator.class_indices.keys()"
   ]
  },
  {
   "cell_type": "code",
   "execution_count": null,
   "id": "aa036442-94ea-44a3-a8ad-496952816b88",
   "metadata": {},
   "outputs": [],
   "source": []
  }
 ],
 "metadata": {
  "kernelspec": {
   "display_name": "Python 3",
   "language": "python",
   "name": "python3"
  },
  "language_info": {
   "codemirror_mode": {
    "name": "ipython",
    "version": 3
   },
   "file_extension": ".py",
   "mimetype": "text/x-python",
   "name": "python",
   "nbconvert_exporter": "python",
   "pygments_lexer": "ipython3",
   "version": "3.9.16 (main, Jan 22 2023, 12:41:56) \n[GCC 11.3.0]"
  },
  "vscode": {
   "interpreter": {
    "hash": "6235a52fe7b9e2094acd9b1420d6b762ab0775ba513e06e2ed6c1fefae769d85"
   }
  }
 },
 "nbformat": 4,
 "nbformat_minor": 5
}
